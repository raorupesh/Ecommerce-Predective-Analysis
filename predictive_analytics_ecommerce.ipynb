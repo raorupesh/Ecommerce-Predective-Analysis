{
 "cells": [
  {
   "cell_type": "markdown",
   "metadata": {},
   "source": [
    "# 📌 **Group Number: 10**\n",
    "\n",
    "---\n",
    "\n",
    "## **Group Members:**\n",
    "\n",
    "- Mehar Sukthi Buruguru \n",
    "- Rupeshwar Rao   \n",
    "- Nandan Varma Pericharla   \n",
    "- Shyamalan Kannan    \n",
    "\n",
    "---\n",
    "\n"
   ]
  }
 ],
 "metadata": {
  "language_info": {
   "name": "python"
  }
 },
 "nbformat": 4,
 "nbformat_minor": 2
}
